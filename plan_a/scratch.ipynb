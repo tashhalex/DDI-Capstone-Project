{
 "cells": [
  {
   "cell_type": "code",
   "execution_count": 1,
   "id": "8880a7a0",
   "metadata": {},
   "outputs": [],
   "source": [
    "import requests\n",
    "import pandas as pd\n",
    "import random"
   ]
  },
  {
   "cell_type": "code",
   "execution_count": 2,
   "id": "410f671b",
   "metadata": {},
   "outputs": [],
   "source": [
    "user = 'thatchell.aca@gmail.com'\n",
    "password = 'Bfpn8T5zgcmwr-*'"
   ]
  },
  {
   "cell_type": "code",
   "execution_count": 3,
   "id": "5ddf4521",
   "metadata": {},
   "outputs": [],
   "source": [
    "session = requests.Session()\n",
    "login_url = 'https://www.space-track.org/ajaxauth/login'\n",
    "login_payload = {'identity': user, 'password': password}\n",
    "login_resp = session.post(login_url, data=login_payload)\n",
    "login_resp.raise_for_status()"
   ]
  },
  {
   "cell_type": "code",
   "execution_count": 4,
   "id": "5a393ae5",
   "metadata": {},
   "outputs": [],
   "source": [
    "# Query SATCAT for all objects with perigee <= 2000 km\n",
    "meta_url = (\n",
    "    'https://www.space-track.org/basicspacedata/query/class/satcat/'\n",
    "    'PERIGEE/0--3000/' # filters perigee between 0 and 2000 km\n",
    "    'orderby/NORAD_CAT_ID asc/' # sory by ID ascending\n",
    "    'format/json'\n",
    ")\n",
    "meta_resp = session.get(meta_url)\n",
    "meta_resp.raise_for_status()\n",
    "sat_meta = meta_resp.json()"
   ]
  },
  {
   "cell_type": "code",
   "execution_count": 5,
   "id": "cb42870c",
   "metadata": {},
   "outputs": [],
   "source": [
    "# Extract list of NORAD IDs\n",
    "leo_ids = [entry['NORAD_CAT_ID'] for entry in sat_meta]\n"
   ]
  },
  {
   "cell_type": "code",
   "execution_count": 6,
   "id": "6e94cda5",
   "metadata": {},
   "outputs": [
    {
     "name": "stdout",
     "output_type": "stream",
     "text": [
      "Sampling 100 LEO satellites...\n"
     ]
    }
   ],
   "source": [
    "sample_ids = random.sample(leo_ids, 100)\n",
    "print(f'Sampling {len(sample_ids)} LEO satellites...')"
   ]
  },
  {
   "cell_type": "code",
   "execution_count": 7,
   "id": "28380ca2",
   "metadata": {},
   "outputs": [],
   "source": [
    "# Define 2-year window\n",
    "start_date = '2019-01-01'\n",
    "end_date = '2021-01-01'"
   ]
  },
  {
   "cell_type": "code",
   "execution_count": 11,
   "id": "7b670a8e",
   "metadata": {},
   "outputs": [
    {
     "name": "stdout",
     "output_type": "stream",
     "text": [
      "Skipping NORAD 39557: no history in 2019-01-01--2021-01-01\n",
      "Skipping NORAD 38847: no history in 2019-01-01--2021-01-01\n",
      "NORAD 39359 record keys: ['CCSDS_OMM_VERS', 'COMMENT', 'CREATION_DATE', 'ORIGINATOR', 'OBJECT_NAME', 'OBJECT_ID', 'CENTER_NAME', 'REF_FRAME', 'TIME_SYSTEM', 'MEAN_ELEMENT_THEORY', 'EPOCH', 'MEAN_MOTION', 'ECCENTRICITY', 'INCLINATION', 'RA_OF_ASC_NODE', 'ARG_OF_PERICENTER', 'MEAN_ANOMALY', 'EPHEMERIS_TYPE', 'CLASSIFICATION_TYPE', 'NORAD_CAT_ID', 'ELEMENT_SET_NO', 'REV_AT_EPOCH', 'BSTAR', 'MEAN_MOTION_DOT', 'MEAN_MOTION_DDOT', 'SEMIMAJOR_AXIS', 'PERIOD', 'APOAPSIS', 'PERIAPSIS', 'OBJECT_TYPE', 'RCS_SIZE', 'COUNTRY_CODE', 'LAUNCH_DATE', 'SITE', 'DECAY_DATE', 'FILE', 'GP_ID', 'TLE_LINE0', 'TLE_LINE1', 'TLE_LINE2']\n",
      "Collected 39359 (1/100)\n",
      "NORAD 45264 record keys: ['CCSDS_OMM_VERS', 'COMMENT', 'CREATION_DATE', 'ORIGINATOR', 'OBJECT_NAME', 'OBJECT_ID', 'CENTER_NAME', 'REF_FRAME', 'TIME_SYSTEM', 'MEAN_ELEMENT_THEORY', 'EPOCH', 'MEAN_MOTION', 'ECCENTRICITY', 'INCLINATION', 'RA_OF_ASC_NODE', 'ARG_OF_PERICENTER', 'MEAN_ANOMALY', 'EPHEMERIS_TYPE', 'CLASSIFICATION_TYPE', 'NORAD_CAT_ID', 'ELEMENT_SET_NO', 'REV_AT_EPOCH', 'BSTAR', 'MEAN_MOTION_DOT', 'MEAN_MOTION_DDOT', 'SEMIMAJOR_AXIS', 'PERIOD', 'APOAPSIS', 'PERIAPSIS', 'OBJECT_TYPE', 'RCS_SIZE', 'COUNTRY_CODE', 'LAUNCH_DATE', 'SITE', 'DECAY_DATE', 'FILE', 'GP_ID', 'TLE_LINE0', 'TLE_LINE1', 'TLE_LINE2']\n",
      "Collected 45264 (2/100)\n",
      "NORAD 45301 record keys: ['CCSDS_OMM_VERS', 'COMMENT', 'CREATION_DATE', 'ORIGINATOR', 'OBJECT_NAME', 'OBJECT_ID', 'CENTER_NAME', 'REF_FRAME', 'TIME_SYSTEM', 'MEAN_ELEMENT_THEORY', 'EPOCH', 'MEAN_MOTION', 'ECCENTRICITY', 'INCLINATION', 'RA_OF_ASC_NODE', 'ARG_OF_PERICENTER', 'MEAN_ANOMALY', 'EPHEMERIS_TYPE', 'CLASSIFICATION_TYPE', 'NORAD_CAT_ID', 'ELEMENT_SET_NO', 'REV_AT_EPOCH', 'BSTAR', 'MEAN_MOTION_DOT', 'MEAN_MOTION_DDOT', 'SEMIMAJOR_AXIS', 'PERIOD', 'APOAPSIS', 'PERIAPSIS', 'OBJECT_TYPE', 'RCS_SIZE', 'COUNTRY_CODE', 'LAUNCH_DATE', 'SITE', 'DECAY_DATE', 'FILE', 'GP_ID', 'TLE_LINE0', 'TLE_LINE1', 'TLE_LINE2']\n",
      "Collected 45301 (3/100)\n",
      "Skipping NORAD 40596: no history in 2019-01-01--2021-01-01\n",
      "NORAD 40995 record keys: ['CCSDS_OMM_VERS', 'COMMENT', 'CREATION_DATE', 'ORIGINATOR', 'OBJECT_NAME', 'OBJECT_ID', 'CENTER_NAME', 'REF_FRAME', 'TIME_SYSTEM', 'MEAN_ELEMENT_THEORY', 'EPOCH', 'MEAN_MOTION', 'ECCENTRICITY', 'INCLINATION', 'RA_OF_ASC_NODE', 'ARG_OF_PERICENTER', 'MEAN_ANOMALY', 'EPHEMERIS_TYPE', 'CLASSIFICATION_TYPE', 'NORAD_CAT_ID', 'ELEMENT_SET_NO', 'REV_AT_EPOCH', 'BSTAR', 'MEAN_MOTION_DOT', 'MEAN_MOTION_DDOT', 'SEMIMAJOR_AXIS', 'PERIOD', 'APOAPSIS', 'PERIAPSIS', 'OBJECT_TYPE', 'RCS_SIZE', 'COUNTRY_CODE', 'LAUNCH_DATE', 'SITE', 'DECAY_DATE', 'FILE', 'GP_ID', 'TLE_LINE0', 'TLE_LINE1', 'TLE_LINE2']\n",
      "Collected 40995 (4/100)\n",
      "NORAD 45068 record keys: ['CCSDS_OMM_VERS', 'COMMENT', 'CREATION_DATE', 'ORIGINATOR', 'OBJECT_NAME', 'OBJECT_ID', 'CENTER_NAME', 'REF_FRAME', 'TIME_SYSTEM', 'MEAN_ELEMENT_THEORY', 'EPOCH', 'MEAN_MOTION', 'ECCENTRICITY', 'INCLINATION', 'RA_OF_ASC_NODE', 'ARG_OF_PERICENTER', 'MEAN_ANOMALY', 'EPHEMERIS_TYPE', 'CLASSIFICATION_TYPE', 'NORAD_CAT_ID', 'ELEMENT_SET_NO', 'REV_AT_EPOCH', 'BSTAR', 'MEAN_MOTION_DOT', 'MEAN_MOTION_DDOT', 'SEMIMAJOR_AXIS', 'PERIOD', 'APOAPSIS', 'PERIAPSIS', 'OBJECT_TYPE', 'RCS_SIZE', 'COUNTRY_CODE', 'LAUNCH_DATE', 'SITE', 'DECAY_DATE', 'FILE', 'GP_ID', 'TLE_LINE0', 'TLE_LINE1', 'TLE_LINE2']\n",
      "Collected 45068 (5/100)\n",
      "Skipping NORAD 36709: no history in 2019-01-01--2021-01-01\n",
      "NORAD 44336 record keys: ['CCSDS_OMM_VERS', 'COMMENT', 'CREATION_DATE', 'ORIGINATOR', 'OBJECT_NAME', 'OBJECT_ID', 'CENTER_NAME', 'REF_FRAME', 'TIME_SYSTEM', 'MEAN_ELEMENT_THEORY', 'EPOCH', 'MEAN_MOTION', 'ECCENTRICITY', 'INCLINATION', 'RA_OF_ASC_NODE', 'ARG_OF_PERICENTER', 'MEAN_ANOMALY', 'EPHEMERIS_TYPE', 'CLASSIFICATION_TYPE', 'NORAD_CAT_ID', 'ELEMENT_SET_NO', 'REV_AT_EPOCH', 'BSTAR', 'MEAN_MOTION_DOT', 'MEAN_MOTION_DDOT', 'SEMIMAJOR_AXIS', 'PERIOD', 'APOAPSIS', 'PERIAPSIS', 'OBJECT_TYPE', 'RCS_SIZE', 'COUNTRY_CODE', 'LAUNCH_DATE', 'SITE', 'DECAY_DATE', 'FILE', 'GP_ID', 'TLE_LINE0', 'TLE_LINE1', 'TLE_LINE2']\n",
      "Collected 44336 (6/100)\n",
      "Skipping NORAD 49068: no history in 2019-01-01--2021-01-01\n",
      "NORAD 36177 record keys: ['CCSDS_OMM_VERS', 'COMMENT', 'CREATION_DATE', 'ORIGINATOR', 'OBJECT_NAME', 'OBJECT_ID', 'CENTER_NAME', 'REF_FRAME', 'TIME_SYSTEM', 'MEAN_ELEMENT_THEORY', 'EPOCH', 'MEAN_MOTION', 'ECCENTRICITY', 'INCLINATION', 'RA_OF_ASC_NODE', 'ARG_OF_PERICENTER', 'MEAN_ANOMALY', 'EPHEMERIS_TYPE', 'CLASSIFICATION_TYPE', 'NORAD_CAT_ID', 'ELEMENT_SET_NO', 'REV_AT_EPOCH', 'BSTAR', 'MEAN_MOTION_DOT', 'MEAN_MOTION_DDOT', 'SEMIMAJOR_AXIS', 'PERIOD', 'APOAPSIS', 'PERIAPSIS', 'OBJECT_TYPE', 'RCS_SIZE', 'COUNTRY_CODE', 'LAUNCH_DATE', 'SITE', 'DECAY_DATE', 'FILE', 'GP_ID', 'TLE_LINE0', 'TLE_LINE1', 'TLE_LINE2']\n",
      "Collected 36177 (7/100)\n",
      "Skipping NORAD 38222: no history in 2019-01-01--2021-01-01\n",
      "NORAD 33837 record keys: ['CCSDS_OMM_VERS', 'COMMENT', 'CREATION_DATE', 'ORIGINATOR', 'OBJECT_NAME', 'OBJECT_ID', 'CENTER_NAME', 'REF_FRAME', 'TIME_SYSTEM', 'MEAN_ELEMENT_THEORY', 'EPOCH', 'MEAN_MOTION', 'ECCENTRICITY', 'INCLINATION', 'RA_OF_ASC_NODE', 'ARG_OF_PERICENTER', 'MEAN_ANOMALY', 'EPHEMERIS_TYPE', 'CLASSIFICATION_TYPE', 'NORAD_CAT_ID', 'ELEMENT_SET_NO', 'REV_AT_EPOCH', 'BSTAR', 'MEAN_MOTION_DOT', 'MEAN_MOTION_DDOT', 'SEMIMAJOR_AXIS', 'PERIOD', 'APOAPSIS', 'PERIAPSIS', 'OBJECT_TYPE', 'RCS_SIZE', 'COUNTRY_CODE', 'LAUNCH_DATE', 'SITE', 'DECAY_DATE', 'FILE', 'GP_ID', 'TLE_LINE0', 'TLE_LINE1', 'TLE_LINE2']\n",
      "Collected 33837 (8/100)\n",
      "Skipping NORAD 47777: no history in 2019-01-01--2021-01-01\n",
      "Skipping NORAD 32519: no history in 2019-01-01--2021-01-01\n",
      "NORAD 36278 record keys: ['CCSDS_OMM_VERS', 'COMMENT', 'CREATION_DATE', 'ORIGINATOR', 'OBJECT_NAME', 'OBJECT_ID', 'CENTER_NAME', 'REF_FRAME', 'TIME_SYSTEM', 'MEAN_ELEMENT_THEORY', 'EPOCH', 'MEAN_MOTION', 'ECCENTRICITY', 'INCLINATION', 'RA_OF_ASC_NODE', 'ARG_OF_PERICENTER', 'MEAN_ANOMALY', 'EPHEMERIS_TYPE', 'CLASSIFICATION_TYPE', 'NORAD_CAT_ID', 'ELEMENT_SET_NO', 'REV_AT_EPOCH', 'BSTAR', 'MEAN_MOTION_DOT', 'MEAN_MOTION_DDOT', 'SEMIMAJOR_AXIS', 'PERIOD', 'APOAPSIS', 'PERIAPSIS', 'OBJECT_TYPE', 'RCS_SIZE', 'COUNTRY_CODE', 'LAUNCH_DATE', 'SITE', 'DECAY_DATE', 'FILE', 'GP_ID', 'TLE_LINE0', 'TLE_LINE1', 'TLE_LINE2']\n",
      "Collected 36278 (9/100)\n",
      "NORAD 46624 record keys: ['CCSDS_OMM_VERS', 'COMMENT', 'CREATION_DATE', 'ORIGINATOR', 'OBJECT_NAME', 'OBJECT_ID', 'CENTER_NAME', 'REF_FRAME', 'TIME_SYSTEM', 'MEAN_ELEMENT_THEORY', 'EPOCH', 'MEAN_MOTION', 'ECCENTRICITY', 'INCLINATION', 'RA_OF_ASC_NODE', 'ARG_OF_PERICENTER', 'MEAN_ANOMALY', 'EPHEMERIS_TYPE', 'CLASSIFICATION_TYPE', 'NORAD_CAT_ID', 'ELEMENT_SET_NO', 'REV_AT_EPOCH', 'BSTAR', 'MEAN_MOTION_DOT', 'MEAN_MOTION_DDOT', 'SEMIMAJOR_AXIS', 'PERIOD', 'APOAPSIS', 'PERIAPSIS', 'OBJECT_TYPE', 'RCS_SIZE', 'COUNTRY_CODE', 'LAUNCH_DATE', 'SITE', 'DECAY_DATE', 'FILE', 'GP_ID', 'TLE_LINE0', 'TLE_LINE1', 'TLE_LINE2']\n",
      "Collected 46624 (10/100)\n",
      "NORAD 45939 record keys: ['CCSDS_OMM_VERS', 'COMMENT', 'CREATION_DATE', 'ORIGINATOR', 'OBJECT_NAME', 'OBJECT_ID', 'CENTER_NAME', 'REF_FRAME', 'TIME_SYSTEM', 'MEAN_ELEMENT_THEORY', 'EPOCH', 'MEAN_MOTION', 'ECCENTRICITY', 'INCLINATION', 'RA_OF_ASC_NODE', 'ARG_OF_PERICENTER', 'MEAN_ANOMALY', 'EPHEMERIS_TYPE', 'CLASSIFICATION_TYPE', 'NORAD_CAT_ID', 'ELEMENT_SET_NO', 'REV_AT_EPOCH', 'BSTAR', 'MEAN_MOTION_DOT', 'MEAN_MOTION_DDOT', 'SEMIMAJOR_AXIS', 'PERIOD', 'APOAPSIS', 'PERIAPSIS', 'OBJECT_TYPE', 'RCS_SIZE', 'COUNTRY_CODE', 'LAUNCH_DATE', 'SITE', 'DECAY_DATE', 'FILE', 'GP_ID', 'TLE_LINE0', 'TLE_LINE1', 'TLE_LINE2']\n",
      "Collected 45939 (11/100)\n",
      "Skipping NORAD 40885: no history in 2019-01-01--2021-01-01\n",
      "Skipping NORAD 48074: no history in 2019-01-01--2021-01-01\n",
      "Skipping NORAD 48827: no history in 2019-01-01--2021-01-01\n",
      "Skipping NORAD 35309: no history in 2019-01-01--2021-01-01\n",
      "Skipping NORAD 36427: no history in 2019-01-01--2021-01-01\n",
      "Skipping NORAD 32746: no history in 2019-01-01--2021-01-01\n",
      "NORAD 43725 record keys: ['CCSDS_OMM_VERS', 'COMMENT', 'CREATION_DATE', 'ORIGINATOR', 'OBJECT_NAME', 'OBJECT_ID', 'CENTER_NAME', 'REF_FRAME', 'TIME_SYSTEM', 'MEAN_ELEMENT_THEORY', 'EPOCH', 'MEAN_MOTION', 'ECCENTRICITY', 'INCLINATION', 'RA_OF_ASC_NODE', 'ARG_OF_PERICENTER', 'MEAN_ANOMALY', 'EPHEMERIS_TYPE', 'CLASSIFICATION_TYPE', 'NORAD_CAT_ID', 'ELEMENT_SET_NO', 'REV_AT_EPOCH', 'BSTAR', 'MEAN_MOTION_DOT', 'MEAN_MOTION_DDOT', 'SEMIMAJOR_AXIS', 'PERIOD', 'APOAPSIS', 'PERIAPSIS', 'OBJECT_TYPE', 'RCS_SIZE', 'COUNTRY_CODE', 'LAUNCH_DATE', 'SITE', 'DECAY_DATE', 'FILE', 'GP_ID', 'TLE_LINE0', 'TLE_LINE1', 'TLE_LINE2']\n",
      "Collected 43725 (12/100)\n",
      "NORAD 45127 record keys: ['CCSDS_OMM_VERS', 'COMMENT', 'CREATION_DATE', 'ORIGINATOR', 'OBJECT_NAME', 'OBJECT_ID', 'CENTER_NAME', 'REF_FRAME', 'TIME_SYSTEM', 'MEAN_ELEMENT_THEORY', 'EPOCH', 'MEAN_MOTION', 'ECCENTRICITY', 'INCLINATION', 'RA_OF_ASC_NODE', 'ARG_OF_PERICENTER', 'MEAN_ANOMALY', 'EPHEMERIS_TYPE', 'CLASSIFICATION_TYPE', 'NORAD_CAT_ID', 'ELEMENT_SET_NO', 'REV_AT_EPOCH', 'BSTAR', 'MEAN_MOTION_DOT', 'MEAN_MOTION_DDOT', 'SEMIMAJOR_AXIS', 'PERIOD', 'APOAPSIS', 'PERIAPSIS', 'OBJECT_TYPE', 'RCS_SIZE', 'COUNTRY_CODE', 'LAUNCH_DATE', 'SITE', 'DECAY_DATE', 'FILE', 'GP_ID', 'TLE_LINE0', 'TLE_LINE1', 'TLE_LINE2']\n",
      "Collected 45127 (13/100)\n",
      "NORAD 35605 record keys: ['CCSDS_OMM_VERS', 'COMMENT', 'CREATION_DATE', 'ORIGINATOR', 'OBJECT_NAME', 'OBJECT_ID', 'CENTER_NAME', 'REF_FRAME', 'TIME_SYSTEM', 'MEAN_ELEMENT_THEORY', 'EPOCH', 'MEAN_MOTION', 'ECCENTRICITY', 'INCLINATION', 'RA_OF_ASC_NODE', 'ARG_OF_PERICENTER', 'MEAN_ANOMALY', 'EPHEMERIS_TYPE', 'CLASSIFICATION_TYPE', 'NORAD_CAT_ID', 'ELEMENT_SET_NO', 'REV_AT_EPOCH', 'BSTAR', 'MEAN_MOTION_DOT', 'MEAN_MOTION_DDOT', 'SEMIMAJOR_AXIS', 'PERIOD', 'APOAPSIS', 'PERIAPSIS', 'OBJECT_TYPE', 'RCS_SIZE', 'COUNTRY_CODE', 'LAUNCH_DATE', 'SITE', 'DECAY_DATE', 'FILE', 'GP_ID', 'TLE_LINE0', 'TLE_LINE1', 'TLE_LINE2']\n",
      "Collected 35605 (14/100)\n",
      "Skipping NORAD 47523: no history in 2019-01-01--2021-01-01\n",
      "NORAD 35187 record keys: ['CCSDS_OMM_VERS', 'COMMENT', 'CREATION_DATE', 'ORIGINATOR', 'OBJECT_NAME', 'OBJECT_ID', 'CENTER_NAME', 'REF_FRAME', 'TIME_SYSTEM', 'MEAN_ELEMENT_THEORY', 'EPOCH', 'MEAN_MOTION', 'ECCENTRICITY', 'INCLINATION', 'RA_OF_ASC_NODE', 'ARG_OF_PERICENTER', 'MEAN_ANOMALY', 'EPHEMERIS_TYPE', 'CLASSIFICATION_TYPE', 'NORAD_CAT_ID', 'ELEMENT_SET_NO', 'REV_AT_EPOCH', 'BSTAR', 'MEAN_MOTION_DOT', 'MEAN_MOTION_DDOT', 'SEMIMAJOR_AXIS', 'PERIOD', 'APOAPSIS', 'PERIAPSIS', 'OBJECT_TYPE', 'RCS_SIZE', 'COUNTRY_CODE', 'LAUNCH_DATE', 'SITE', 'DECAY_DATE', 'FILE', 'GP_ID', 'TLE_LINE0', 'TLE_LINE1', 'TLE_LINE2']\n",
      "Collected 35187 (15/100)\n",
      "NORAD 38742 record keys: ['error']\n",
      "No timestamp column found for NORAD 38742, columns are ['ERROR']\n",
      "NORAD 30688 record keys: ['error']\n",
      "No timestamp column found for NORAD 30688, columns are ['ERROR']\n",
      "NORAD 44245 record keys: ['error']\n",
      "No timestamp column found for NORAD 44245, columns are ['ERROR']\n",
      "NORAD 41010 record keys: ['error']\n",
      "No timestamp column found for NORAD 41010, columns are ['ERROR']\n",
      "NORAD 38591 record keys: ['error']\n",
      "No timestamp column found for NORAD 38591, columns are ['ERROR']\n",
      "NORAD 44083 record keys: ['error']\n",
      "No timestamp column found for NORAD 44083, columns are ['ERROR']\n",
      "NORAD 34561 record keys: ['error']\n",
      "No timestamp column found for NORAD 34561, columns are ['ERROR']\n",
      "NORAD 35546 record keys: ['error']\n",
      "No timestamp column found for NORAD 35546, columns are ['ERROR']\n",
      "NORAD 48165 record keys: ['error']\n",
      "No timestamp column found for NORAD 48165, columns are ['ERROR']\n"
     ]
    }
   ],
   "source": [
    "sample_ids_int = []\n",
    "for norad in sample_ids:\n",
    "    try:\n",
    "        sample_ids_int.append(int(norad))\n",
    "    except ValueError:\n",
    "        continue\n",
    "\n",
    "filtered_ids = []\n",
    "for norad in sample_ids_int:\n",
    "    if norad >= 30000 and norad <= 50000:\n",
    "        filtered_ids.append(norad)\n",
    "\n",
    "all_records = []\n",
    "for norad in filtered_ids:\n",
    "    tle_url = (\n",
    "        'https://www.space-track.org/basicspacedata/query/class/gp_history/'\n",
    "        f'NORAD_CAT_ID/{norad}/'\n",
    "        f'CREATION_DATE/{start_date}--{end_date}/'\n",
    "        'orderby/CREATION_DATE%20asc/'\n",
    "        'format/json'\n",
    "    )\n",
    "    resp = session.get(tle_url)\n",
    "    resp.raise_for_status()\n",
    "    history = resp.json()\n",
    "\n",
    "    if not history or 'ERROR' in history[0]:\n",
    "        print(f'Skipping NORAD {norad}: no history in {start_date}--{end_date}')\n",
    "        continue\n",
    "\n",
    "    print(f'NORAD {norad} record keys:', list(history[0].keys()))\n",
    "    \n",
    "    df = pd.DataFrame(history)\n",
    "    df.columns = df.columns.str.strip().str.upper()\n",
    "\n",
    "    ts_col = None\n",
    "    for candidate in ('CREATION_DATE', 'EPOCH', 'REF_TIME', 'UPDATE_DATE'):\n",
    "        if candidate in df.columns:\n",
    "            ts_col = candidate\n",
    "            break\n",
    "    if ts_col is None:\n",
    "        print(f'No timestamp column found for NORAD {norad}, columns are {df.columns.tolist()}')\n",
    "        continue\n",
    "\n",
    "    df['EPOCH'] = pd.to_datetime(df[ts_col])\n",
    "\n",
    "    df['DATE'] = df['EPOCH'].dt.date\n",
    "\n",
    "    keep = ['DATE', 'NORAD_CAT_ID', 'SEMIMAJOR_AXIS', 'APOAPSIS', 'PERIAPSIS', 'MEAN_MOTION', 'ECCENTRICITY', 'INCLINATION', 'ARG_OF_PERICENTER']\n",
    "    if 'NORAD_CAT_ID' not in df.columns:\n",
    "        df['NORAD_CAT_ID'] = norad\n",
    "\n",
    "    df = df[[c for c in keep if c in df.columns]]\n",
    "    daily = df.groupby('DATE', as_index=False).first()\n",
    "    daily['NORAD_CAT_ID'] = norad\n",
    "    all_records.append(daily)\n",
    "    print(f'Collected {norad} ({len(all_records)}/{len(sample_ids)})')"
   ]
  },
  {
   "cell_type": "code",
   "execution_count": 10,
   "id": "c9941740",
   "metadata": {},
   "outputs": [
    {
     "name": "stdout",
     "output_type": "stream",
     "text": [
      "\n",
      "Sample of merged DataFrame:\n",
      "         DATE  NORAD_CAT_ID SEMIMAJOR_AXIS\n",
      "0  2019-01-01         39359       6889.623\n",
      "1  2019-01-02         39359       6889.619\n",
      "2  2019-01-04         39359       6889.609\n",
      "3  2019-01-05         39359       6889.607\n",
      "4  2019-01-06         39359       6889.603\n",
      "\n",
      "Total rows: 4810\n",
      "Columns: ['DATE', 'NORAD_CAT_ID', 'SEMIMAJOR_AXIS']\n"
     ]
    }
   ],
   "source": [
    "tle_df = pd.concat(all_records, ignore_index=True)\n",
    "print('\\nSample of merged DataFrame:')\n",
    "print(tle_df.head())\n",
    "print(f'\\nTotal rows: {tle_df.shape[0]}')\n",
    "print('Columns:', tle_df.columns.tolist())"
   ]
  }
 ],
 "metadata": {
  "kernelspec": {
   "display_name": "base",
   "language": "python",
   "name": "python3"
  },
  "language_info": {
   "codemirror_mode": {
    "name": "ipython",
    "version": 3
   },
   "file_extension": ".py",
   "mimetype": "text/x-python",
   "name": "python",
   "nbconvert_exporter": "python",
   "pygments_lexer": "ipython3",
   "version": "3.12.3"
  }
 },
 "nbformat": 4,
 "nbformat_minor": 5
}
